{
 "cells": [
  {
   "cell_type": "code",
   "execution_count": null,
   "id": "3332fecf",
   "metadata": {},
   "outputs": [],
   "source": [
    "import numpy as np\n",
    "import pandas as pd\n",
    "import time\n",
    "from time import time\n",
    "import pickle\n",
    "from multiprocessing import Pool\n",
    "from joblib import Parallel, delayed"
   ]
  },
  {
   "cell_type": "code",
   "execution_count": null,
   "id": "0b5a6f7d",
   "metadata": {},
   "outputs": [],
   "source": [
    "def Allele(MTD=48,LIF=10,prop=0.75,C=25,B=120,A=15,T=np.array(range(0,195,15))): \n",
    "    '''\n",
    "    Input:\n",
    "    MTD: Mean Transcription Duration (integer)\n",
    "    A: Mean time between two successive transcriptions after treatment (float)\n",
    "    LIF: Average lifetime for a nascent mRNA to be a mature mRNA (float)\n",
    "    C: Mean time between two successive transcriptions after treatment (float)\n",
    "    B: Time point that a transcription began before the begining of treatment (integer)\n",
    "    prop: proportion of the length of the gene to be transcribed for visibility (float)\n",
    "    T: time points to record the number of mRNAs (list of integers)\n",
    "\n",
    "    Output:\n",
    "    incomp: list of incomplete transcription for each time point (dictionary)\n",
    "    comp: list of complete transcription for each time point before degradation (dictionary)\n",
    "\n",
    "\n",
    "    '''\n",
    "    \n",
    "    MTV=prop * MTD   \n",
    "    TERM=np.max(T)+MTD+5\n",
    "    size=int((TERM+MTD)/A)\n",
    "    \n",
    "    w0=np.random.exponential(scale=C,size=size)\n",
    "    t0=np.zeros(size)\n",
    "    for i in range(size):\n",
    "        t0[i]=sum(w0[0:i+1])\n",
    "    t0=t0-B\n",
    "    t0=t0[t0<1]\n",
    "    w=np.random.exponential(scale=A,size=size) ## Paragraph 6\n",
    "    t1=np.zeros(size)\n",
    "    for i in range(size):\n",
    "        t1[i]=sum(w[0:i+1]) ## Paragraph 7\n",
    "        \n",
    "    t=np.append(t0,t1)\n",
    "    STOP=np.count_nonzero(t <= TERM) \n",
    "    \n",
    "    S=np.random.exponential(scale=LIF,size=STOP) ## Paragraph 11\n",
    "    D=np.zeros(STOP)  \n",
    "    EMERGE=np.zeros(STOP)             \n",
    "\n",
    "    for j in range(STOP):\n",
    "        EMERGE[j]=t[j]+MTV\n",
    "        D[j]=t[j]+MTD+S[j] \n",
    "    \n",
    "    incomp={}\n",
    "    comp={}\n",
    "    for k in T:\n",
    "        incomp[str(k)]=[]\n",
    "        comp[str(k)]=[]\n",
    "        \n",
    "        for j in range(STOP):\n",
    "            if (t[j]<=k<EMERGE[j] ):\n",
    "                incomp[str(k)].append(j) \n",
    "            elif (EMERGE[j]<=k<D[j]):\n",
    "                comp[str(k)].append(j)             \n",
    "    return incomp , comp  "
   ]
  },
  {
   "cell_type": "code",
   "execution_count": null,
   "id": "7cf79ab9",
   "metadata": {},
   "outputs": [],
   "source": [
    "gridLIF=np.linspace(19, 22, 7,endpoint=True)  \n",
    "gridA=np.linspace(5, 25, 41,endpoint=True)\n",
    "gridC=np.arange(10,36,1)\n",
    "gridB=np.arange(50,125,5)\n",
    "gridMTD=np.arange(40,47,1)\n",
    "VALUE=[(lif,a,c,b,mtd) for lif in gridLIF for a in gridA for c in gridC[gridC>a+5] for b in gridB for mtd in gridMTD] \n",
    "sim=np.arange(1,10001)\n",
    "ST=np.arange(0,135,15)\n",
    "\n",
    "viz=2\n",
    "prop=0.75"
   ]
  },
  {
   "cell_type": "code",
   "execution_count": null,
   "id": "d68e29ce",
   "metadata": {},
   "outputs": [],
   "source": [
    "def NF_simulation(val,sim,number):\n",
    "    name='LIF'+str(val[0])+'A'+str(val[1])+'C'+str(val[2])+'B'+str(val[3])+'MTD'+str(val[4])\n",
    "    \n",
    "    NAS1={}\n",
    "\n",
    "    for i in sim:\n",
    "        NAS1[i]={}\n",
    "        _,NAS1[i]=Allele(MTD=val[4],LIF=val[0],A=val[1],C=val[2],B=val[3],prop=0.75,T=ST)    \n",
    "\n",
    "    simulation=pd.DataFrame(0,index=[name],columns=np.arange(0,135,15))       \n",
    "    for k in ST:\n",
    "        for i in sim: \n",
    "            if (2<= len(NAS1[i][str(k)])):\n",
    "                simulation[k]=simulation[k]+1   \n",
    "            elif (2 > len(NAS1[i][str(k)])):\n",
    "                simulation[k]=simulation[k]+0\n",
    "                    \n",
    "    simulation=(simulation / (len(sim))).round(2)\n",
    "    simulation.to_csv(\"nfsim\"+str(number)+\".csv\")    "
   ]
  },
  {
   "cell_type": "code",
   "execution_count": null,
   "id": "cb056626",
   "metadata": {},
   "outputs": [],
   "source": [
    "ti=time()\n",
    "Parallel(n_jobs=4)(delayed(FV_simulation)(val,nsim,i+1) for i,val in enumerate(VALUE))\n",
    "\n",
    "print(time()-ti)"
   ]
  }
 ],
 "metadata": {
  "kernelspec": {
   "display_name": "Python 3 (ipykernel)",
   "language": "python",
   "name": "python3"
  },
  "language_info": {
   "codemirror_mode": {
    "name": "ipython",
    "version": 3
   },
   "file_extension": ".py",
   "mimetype": "text/x-python",
   "name": "python",
   "nbconvert_exporter": "python",
   "pygments_lexer": "ipython3",
   "version": "3.9.7"
  }
 },
 "nbformat": 4,
 "nbformat_minor": 5
}
