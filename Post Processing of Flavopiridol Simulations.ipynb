{
 "cells": [
  {
   "cell_type": "code",
   "execution_count": 1,
   "id": "6548490b",
   "metadata": {},
   "outputs": [],
   "source": [
    "import numpy as np\n",
    "import pandas as pd\n",
    "import time\n",
    "from time import time\n",
    "import pickle\n",
    "import warnings\n",
    "warnings.filterwarnings(\"ignore\")\n",
    "from matplotlib import pyplot as plt\n"
   ]
  },
  {
   "cell_type": "code",
   "execution_count": 2,
   "id": "aae8af3f",
   "metadata": {},
   "outputs": [],
   "source": [
    "fv=pd.read_csv(r'C:\\Users\\smahm\\FV.csv')\n",
    "\n",
    "fv.columns=np.append(np.array([-1]),np.arange(0,135,15))\n",
    "fv=fv.reset_index()\n",
    "del fv['index']"
   ]
  },
  {
   "cell_type": "code",
   "execution_count": 3,
   "id": "987919b5",
   "metadata": {},
   "outputs": [],
   "source": [
    "#probability of Activation for a single allele ==> December Experiment (Flavopiridol)\n",
    "D2=[0.05,0.09,0.22,0.43,0.56,0.63] \n",
    "#probability of Activation for a single allele ==> January Experiment (Flavopiridol)\n",
    "J2=[0.04,0.05,0.15,0.37,0.52,0.53]\n",
    "#probability of Activation for a single allele ==> August Experiment (Flavopiridol)\n",
    "A2=[0.03, 0.06, 0.14, 0.22, 0.30, 0.36]"
   ]
  },
  {
   "cell_type": "code",
   "execution_count": 4,
   "id": "738b0b94",
   "metadata": {},
   "outputs": [],
   "source": [
    "def lif(parameters):\n",
    "    LIF=float(parameters.split(\"LIF\")[1].split(\"MTD\")[0])\n",
    "    return LIF\n",
    "\n",
    "def ave(parameters):\n",
    "    A=float(parameters.split(\"A\")[1].split(\"LIF\")[0])\n",
    "    return A\n",
    "\n",
    "\n",
    "def mtd(parameters):\n",
    "    MTD=float(parameters.split(\"LIF\")[1])\n",
    "    return MTD\n",
    "    \n",
    "    return np.array([LIF,A,C,B,MTD])\n",
    "def dec(f,e,d,c):\n",
    "    dec45=np.round(np.max([np.abs(D2[5]-f),np.abs(D2[4]-e),\\\n",
    "                                      np.abs(D2[3]-d),np.abs(D2[2]-c)]),2)\n",
    "    return dec45\n",
    "\n",
    "def jan(f,e,d,c):\n",
    "    jan45=np.round(np.max([np.abs(J2[5]-f),np.abs(J2[4]-e),\\\n",
    "                                      np.abs(J2[3]-d),np.abs(J2[2]-c)]),2)\n",
    "    return jan45\n",
    "\n",
    "def aug(f,e,d,c):\n",
    "    aug45=np.round(np.max([np.abs(A2[5]-f),np.abs(A2[4]-e),\\\n",
    "                                      np.abs(A2[3]-d),np.abs(A2[2]-c)]),2)\n",
    "    return aug45"
   ]
  },
  {
   "cell_type": "code",
   "execution_count": 5,
   "id": "a125ad3a",
   "metadata": {},
   "outputs": [],
   "source": [
    "fv['LIF']=fv.apply(lambda row: lif(row[-1]), axis=1)\n",
    "fv['A']=fv.apply(lambda row: ave(row[-1]), axis=1)\n",
    "fv['MTD']=fv.apply(lambda row: mtd(row[-1]), axis=1)\n",
    "fv['Dec45'] = fv.apply(lambda row: dec(row[90], row[75],row[60],row[45]), axis=1)\n",
    "fv['Jan45'] = fv.apply(lambda row: jan(row[90], row[75],row[60],row[45]), axis=1)\n",
    "fv['Aug45'] = fv.apply(lambda row: aug(row[90], row[75],row[60],row[45]), axis=1)\n"
   ]
  },
  {
   "cell_type": "code",
   "execution_count": 6,
   "id": "c6d55cd6",
   "metadata": {},
   "outputs": [],
   "source": [
    "DEC=fv.sort_values('Dec45')\n",
    "DEC=DEC[DEC['Dec45']<0.04]\n",
    "DEC= DEC.reset_index()\n",
    "del DEC['index']\n",
    "\n",
    "JAN=fv.sort_values('Jan45')\n",
    "JAN=JAN[JAN['Jan45']<0.04]\n",
    "JAN= JAN.reset_index()\n",
    "del JAN['index']\n",
    "\n",
    "AUG=fv.sort_values('Aug45')\n",
    "AUG=AUG[AUG['Aug45']<0.04]\n",
    "AUG= AUG.reset_index()\n",
    "del AUG['index']\n"
   ]
  },
  {
   "cell_type": "code",
   "execution_count": null,
   "id": "b67c1963",
   "metadata": {},
   "outputs": [],
   "source": []
  }
 ],
 "metadata": {
  "kernelspec": {
   "display_name": "Python 3 (ipykernel)",
   "language": "python",
   "name": "python3"
  },
  "language_info": {
   "codemirror_mode": {
    "name": "ipython",
    "version": 3
   },
   "file_extension": ".py",
   "mimetype": "text/x-python",
   "name": "python",
   "nbconvert_exporter": "python",
   "pygments_lexer": "ipython3",
   "version": "3.9.7"
  }
 },
 "nbformat": 4,
 "nbformat_minor": 5
}
